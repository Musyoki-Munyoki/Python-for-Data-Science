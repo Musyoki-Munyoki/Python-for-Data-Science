{
 "cells": [
  {
   "cell_type": "markdown",
   "id": "55ddecc1",
   "metadata": {},
   "source": [
    "#### A variable is a named storage location used to store data in a program. It is a way to give a name to a memory location, making it easier to reference and manipulate data. Variables are used in various programming tasks, such as calculations, storage, and manipulation of data."
   ]
  },
  {
   "cell_type": "code",
   "execution_count": 3,
   "id": "c33036d6",
   "metadata": {},
   "outputs": [
    {
     "name": "stdout",
     "output_type": "stream",
     "text": [
      "5\n"
     ]
    }
   ],
   "source": [
    "# To assign a value to a varible in python, you need the items i.e the variable name,the assignment operator and the value.\n",
    "x=5\n",
    "print(x)#prints the value of x"
   ]
  },
  {
   "cell_type": "code",
   "execution_count": 4,
   "id": "700a55f6",
   "metadata": {},
   "outputs": [
    {
     "name": "stdout",
     "output_type": "stream",
     "text": [
      "10 20 30\n"
     ]
    }
   ],
   "source": [
    "#Multiple Variable can also be assigned in one line\n",
    "x,y,z=10,20,30\n",
    "print(x,y,z)"
   ]
  },
  {
   "cell_type": "code",
   "execution_count": 8,
   "id": "c241a835",
   "metadata": {},
   "outputs": [
    {
     "name": "stdout",
     "output_type": "stream",
     "text": [
      "b : 100\n",
      "a : 100\n"
     ]
    }
   ],
   "source": [
    "#Reassigning a variable \n",
    "a=100\n",
    "b=a\n",
    "print(\"b :\",b)\n",
    "print(\"a :\",a)"
   ]
  },
  {
   "cell_type": "code",
   "execution_count": 11,
   "id": "836ba674",
   "metadata": {},
   "outputs": [
    {
     "name": "stdout",
     "output_type": "stream",
     "text": [
      "10\n",
      "20\n"
     ]
    }
   ],
   "source": [
    "d=10\n",
    "a=30\n",
    "print(d)\n",
    "d=20\n",
    "print(d)"
   ]
  }
 ],
 "metadata": {
  "kernelspec": {
   "display_name": "DataScience",
   "language": "python",
   "name": "python3"
  },
  "language_info": {
   "codemirror_mode": {
    "name": "ipython",
    "version": 3
   },
   "file_extension": ".py",
   "mimetype": "text/x-python",
   "name": "python",
   "nbconvert_exporter": "python",
   "pygments_lexer": "ipython3",
   "version": "3.12.9"
  }
 },
 "nbformat": 4,
 "nbformat_minor": 5
}
