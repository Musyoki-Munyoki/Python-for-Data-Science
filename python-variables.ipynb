{
 "cells": [
  {
   "cell_type": "markdown",
   "id": "55ddecc1",
   "metadata": {},
   "source": [
    "#### A variable is a named storage location used to store data in a program. It is a way to give a name to a memory location, making it easier to reference and manipulate data. Variables are used in various programming tasks, such as calculations, storage, and manipulation of data."
   ]
  },
  {
   "cell_type": "code",
   "execution_count": 3,
   "id": "c33036d6",
   "metadata": {},
   "outputs": [
    {
     "name": "stdout",
     "output_type": "stream",
     "text": [
      "5\n"
     ]
    }
   ],
   "source": [
    "# To assign a value to a varible in python, you need the items i.e the variable name,the assignment operator and the value.\n",
    "x=5\n",
    "print(x)#prints the value of x"
   ]
  },
  {
   "cell_type": "code",
   "execution_count": 4,
   "id": "700a55f6",
   "metadata": {},
   "outputs": [
    {
     "name": "stdout",
     "output_type": "stream",
     "text": [
      "10 20 30\n"
     ]
    }
   ],
   "source": [
    "#Multiple Variable can also be assigned in one line\n",
    "x,y,z=10,20,30\n",
    "print(x,y,z)"
   ]
  },
  {
   "cell_type": "code",
   "execution_count": 1,
   "id": "c241a835",
   "metadata": {},
   "outputs": [
    {
     "name": "stdout",
     "output_type": "stream",
     "text": [
      "b : 100\n",
      "a : 100\n",
      "200\n"
     ]
    }
   ],
   "source": [
    "#Reassigning a variable \n",
    "a=100\n",
    "b=a\n",
    "print(\"b :\",b)\n",
    "print(\"a :\",a)\n",
    "a=200\n",
    "print(a)"
   ]
  },
  {
   "cell_type": "markdown",
   "id": "0998227f",
   "metadata": {},
   "source": [
    "The value of variable a stored in the system's memory is 200, and the value 100 is novlonger cpnnected to a."
   ]
  },
  {
   "cell_type": "markdown",
   "id": "621ba2c5",
   "metadata": {},
   "source": [
    "#### The id() function.\n",
    "Used to retrieve the mempry address of a given variable."
   ]
  },
  {
   "cell_type": "code",
   "execution_count": 7,
   "id": "7db6b11e",
   "metadata": {},
   "outputs": [
    {
     "name": "stdout",
     "output_type": "stream",
     "text": [
      "The memory adddress of yx : 140720329666840\n",
      "The memory address of xy : 140720329666840\n"
     ]
    }
   ],
   "source": [
    "yx=60\n",
    "xy=yx\n",
    "print(\"The memory adddress of yx :\",id(yx))\n",
    "print(\"The memory address of xy :\",id(xy))\n",
    "#Both the xy and yx refer to the same integer 60, so their id()s are the same/identical."
   ]
  },
  {
   "cell_type": "code",
   "execution_count": 9,
   "id": "73b818ba",
   "metadata": {},
   "outputs": [
    {
     "name": "stdout",
     "output_type": "stream",
     "text": [
      "Memory address : 140720329665880\n",
      "Memory address : 140720329666200\n"
     ]
    }
   ],
   "source": [
    "yvx=30\n",
    "xyv=40\n",
    "print(\"Memory address :\",id(yvx))\n",
    "print(\"Memory address :\",id(xyv))"
   ]
  },
  {
   "cell_type": "code",
   "execution_count": 4,
   "id": "f39d62f8",
   "metadata": {},
   "outputs": [],
   "source": [
    "# 1. Used to debug a code and understand if two variables point to the same object.\n",
    "# 2. Used to understand how python handles object resuse, especially with immutable types like integers and strings "
   ]
  },
  {
   "cell_type": "markdown",
   "id": "80ff71e0",
   "metadata": {},
   "source": [
    "Variable naming conventions (PEP 8)\n",
    "PEP 8, or \"Python Enhancement Proposal 8\", is the style guide for Python code. It includes recommendations on how to format Python code to make it more readable and consistent. Regarding variable naming conventions, PEP 8 provides the following guidelines:\n",
    "\n",
    "Rules\n",
    "When naming variables, certain rules must be followed:\n",
    "\n",
    "Rule\tExample\n",
    "1. Must start with a letter or underscore\texample myvarname or _myvarname\n",
    "\n",
    "2. Not allowed to start with a number\texample 2myvarname\n",
    "\n",
    "3. Only allowed to contain alpha-numeric characters and underscores\texample myvarname_2\n",
    "\n",
    "4. Variable names are case-sensitive\texample myvar  ≠ Myvar"
   ]
  },
  {
   "cell_type": "markdown",
   "id": "0e188a82",
   "metadata": {},
   "source": [
    "### Data Types\n",
    "They dictate what kind of data a variable can store and in some caes the amount of memory allocated.\n",
    "\n",
    "1. Integers- These are positive or negative whole numbers with no fractional components.\n",
    "2. Floats- This is also used to represent real numbers. A decimal is used to devide the integer and fractional components of the value example 3.142,-0.567\n",
    "3. Complex Numbers-represent numbers in the form of a+bj where a and b are real numbers and j is the imaginary unit\n",
    "4. Strings-sequence of characters enclosed in quotes either single of double."
   ]
  },
  {
   "cell_type": "code",
   "execution_count": 10,
   "id": "8c2054fa",
   "metadata": {},
   "outputs": [
    {
     "name": "stdout",
     "output_type": "stream",
     "text": [
      "Hello,Python!\n"
     ]
    }
   ],
   "source": [
    "#example\n",
    "hello_string=\"Hello,Python!\"\n",
    "print(hello_string)"
   ]
  }
 ],
 "metadata": {
  "kernelspec": {
   "display_name": "DataScience",
   "language": "python",
   "name": "python3"
  },
  "language_info": {
   "codemirror_mode": {
    "name": "ipython",
    "version": 3
   },
   "file_extension": ".py",
   "mimetype": "text/x-python",
   "name": "python",
   "nbconvert_exporter": "python",
   "pygments_lexer": "ipython3",
   "version": "3.12.9"
  }
 },
 "nbformat": 4,
 "nbformat_minor": 5
}
